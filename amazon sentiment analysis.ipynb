{
 "cells": [
  {
   "cell_type": "markdown",
   "id": "4a54e303",
   "metadata": {},
   "source": [
    "### Creating a class to hold the review and the category"
   ]
  },
  {
   "cell_type": "code",
   "execution_count": 9,
   "id": "947b8fb6",
   "metadata": {},
   "outputs": [],
   "source": [
    "import random"
   ]
  },
  {
   "cell_type": "code",
   "execution_count": 5,
   "id": "68f0a605",
   "metadata": {},
   "outputs": [],
   "source": [
    "# create a sentiment class to hold the value for each data\n",
    "class Sentiment:\n",
    "    Positive = \"POSITIVE\"\n",
    "    Negative = \"NEGATIVE\"\n",
    "    Neutral = \"NEUTRAL\"\n",
    "    \n",
    "# create another class call reviewClass to hold the review data and the rating\n",
    "class ReviewClass:\n",
    "    def __init__(self, review, rate):\n",
    "        self.review = review\n",
    "        self.rate = rate\n",
    "        self.statement = self.get_statement()\n",
    "    # define another function call get_statement to return the state of each review base on the rated value\n",
    "    def get_statement(self):\n",
    "        #set conditional statement to determine each statement per rate\n",
    "        if (self.rate <= 2):\n",
    "            return Sentiment.Negative\n",
    "        elif (self.rate == 3):\n",
    "            return Sentiment.Neutral\n",
    "        else:\n",
    "            return Sentiment.Positive\n",
    "#write another class that return the review text and the review count and also change the lenght of the positive\n",
    "class ReviewAdjuster:\n",
    "    def __init__(self, review):\n",
    "        self.review = review\n",
    "    def get_text(self):\n",
    "        return list(x.review for x in self.review)\n",
    "    def get_rate(self):\n",
    "        return list(x.statement for x in self.review)\n",
    "    def adjuster(self):\n",
    "        positive = list(filter(lambda x: x.statement == Sentiment.Positive, self.review))\n",
    "        negative = list(filter(lambda x: x.statement == Sentiment.Negative, self.review))\n",
    "        positive_shrunk = positive[:len(negative)]\n",
    "        self.review = negative + positive_shrunk\n",
    "        random.shuffle(self.review)\n",
    "\n",
    "    \n",
    "\n",
    "\n"
   ]
  },
  {
   "cell_type": "markdown",
   "id": "343c8549",
   "metadata": {},
   "source": [
    "### import the data from the json file"
   ]
  },
  {
   "cell_type": "code",
   "execution_count": 10,
   "id": "270cf7f1",
   "metadata": {},
   "outputs": [],
   "source": [
    "import json\n",
    "data_list = list()\n",
    "with open(\"Books_small_10000.json\") as file:\n",
    "    for data_file in file:\n",
    "        data_json = json.loads(data_file)\n",
    "        review_data = ReviewClass(data_json['reviewText'], data_json['overall'])\n",
    "        #review = (review_data.review, review_data.rate)\n",
    "        data_list.append(review_data)\n",
    "\n"
   ]
  },
  {
   "cell_type": "markdown",
   "id": "fb81e604",
   "metadata": {},
   "source": [
    "### Preprocessing the data"
   ]
  },
  {
   "cell_type": "code",
   "execution_count": 11,
   "id": "ddad05c2",
   "metadata": {},
   "outputs": [],
   "source": [
    "#calling the train_test_split from sklearn to split the dataset into training and text data \n",
    "from sklearn.model_selection import train_test_split\n",
    "training_data, test_data = train_test_split(data_list, test_size=0.33, random_state=42)\n",
    "review_adj_train = ReviewAdjuster(training_data)\n",
    "review_adj_test = ReviewAdjuster(test_data)\n"
   ]
  },
  {
   "cell_type": "code",
   "execution_count": 12,
   "id": "9321e2a1",
   "metadata": {},
   "outputs": [],
   "source": [
    "review_adj_train.adjuster()\n",
    "train_x = review_adj_train.get_text()\n",
    "train_y = review_adj_train.get_rate()\n",
    "\n",
    "\n"
   ]
  },
  {
   "cell_type": "code",
   "execution_count": 13,
   "id": "f9234a14",
   "metadata": {},
   "outputs": [],
   "source": [
    "review_adj_test.adjuster()\n",
    "test_x =review_adj_test.get_text()\n",
    "test_y = review_adj_test.get_rate()\n",
    "\n"
   ]
  },
  {
   "cell_type": "code",
   "execution_count": 14,
   "id": "7f4fac8e",
   "metadata": {},
   "outputs": [
    {
     "name": "stdout",
     "output_type": "stream",
     "text": [
      "Number of positive in train data: 436\n",
      "Number of Negative in train data: 436\n"
     ]
    }
   ],
   "source": [
    "print(\"Number of positive in train data:\",train_y.count(Sentiment.Positive))\n",
    "print(\"Number of Negative in train data:\",train_y.count(Sentiment.Negative))\n",
    "#print(\"Number of Negative in train data:\",train_y.count(Sentiment.Neutral))"
   ]
  },
  {
   "cell_type": "markdown",
   "id": "a28e2598",
   "metadata": {},
   "source": [
    "### Bag of word for the preprocessing data"
   ]
  },
  {
   "cell_type": "code",
   "execution_count": 15,
   "id": "84881775",
   "metadata": {},
   "outputs": [],
   "source": [
    "from sklearn.feature_extraction.text import CountVectorizer\n",
    "vectorizer = CountVectorizer()\n",
    "vectorizer.fit(train_x)\n",
    "train_x_vector = vectorizer.transform(train_x)\n",
    "#print(vectorizer.vocabulary_)\n",
    "test_x_vector = vectorizer.transform(test_x)"
   ]
  },
  {
   "cell_type": "markdown",
   "id": "2ca2dba5",
   "metadata": {},
   "source": [
    "### Model Clasification "
   ]
  },
  {
   "cell_type": "markdown",
   "id": "042679f3",
   "metadata": {},
   "source": [
    "### logistic Regression"
   ]
  },
  {
   "cell_type": "code",
   "execution_count": 16,
   "id": "f92092ae",
   "metadata": {},
   "outputs": [
    {
     "name": "stdout",
     "output_type": "stream",
     "text": [
      "['POSITIVE']\n"
     ]
    }
   ],
   "source": [
    "from sklearn.linear_model import LogisticRegression\n",
    "clf_l = LogisticRegression(random_state=0).fit(train_x_vector, train_y)\n",
    "print(clf_l.predict(test_x_vector[0]))"
   ]
  },
  {
   "cell_type": "markdown",
   "id": "7f020b23",
   "metadata": {},
   "source": [
    "### Surport vector machine"
   ]
  },
  {
   "cell_type": "code",
   "execution_count": 17,
   "id": "89332dee",
   "metadata": {},
   "outputs": [
    {
     "data": {
      "text/plain": [
       "array(['POSITIVE'], dtype='<U8')"
      ]
     },
     "execution_count": 17,
     "metadata": {},
     "output_type": "execute_result"
    }
   ],
   "source": [
    "from sklearn import svm\n",
    "clf_svm = svm.SVC(kernel='linear')\n",
    "clf_svm.fit(train_x_vector, train_y)\n",
    "clf_svm.predict(test_x_vector[0])"
   ]
  },
  {
   "cell_type": "markdown",
   "id": "c277db0a",
   "metadata": {},
   "source": [
    "### Decision Tree Classifier"
   ]
  },
  {
   "cell_type": "code",
   "execution_count": 18,
   "id": "89aea4e2",
   "metadata": {},
   "outputs": [],
   "source": [
    "from sklearn.tree import DecisionTreeClassifier\n",
    "clf_gnb = DecisionTreeClassifier(random_state=0)\n",
    "clf_gnb.fit(train_x_vector, train_y)\n",
    "y_pred = clf_gnb.predict(test_x_vector[0])"
   ]
  },
  {
   "cell_type": "markdown",
   "id": "3b3f6b13",
   "metadata": {},
   "source": [
    "### evaluation of the model"
   ]
  },
  {
   "cell_type": "code",
   "execution_count": 19,
   "id": "915bd824",
   "metadata": {},
   "outputs": [
    {
     "name": "stdout",
     "output_type": "stream",
     "text": [
      "0.8149038461538461\n",
      "0.7980769230769231\n",
      "0.6346153846153846\n"
     ]
    }
   ],
   "source": [
    "print(clf_l.score(test_x_vector, test_y))\n",
    "print(clf_svm.score(test_x_vector, test_y))\n",
    "print(clf_gnb.score(test_x_vector, test_y))"
   ]
  },
  {
   "cell_type": "code",
   "execution_count": 20,
   "id": "eec16776",
   "metadata": {
    "scrolled": true
   },
   "outputs": [
    {
     "name": "stdout",
     "output_type": "stream",
     "text": [
      "[0.8028169  0.79310345]\n",
      "[0.82051282 0.808933  ]\n",
      "[0.63981043 0.62926829]\n"
     ]
    }
   ],
   "source": [
    "from sklearn.metrics import f1_score\n",
    "print(f1_score(test_y, clf_svm.predict(test_x_vector), average = None, labels=['POSITIVE', 'NEGATIVE']))\n",
    "print(f1_score(test_y, clf_l.predict(test_x_vector), average = None, labels=['POSITIVE', 'NEGATIVE']))\n",
    "print(f1_score(test_y, clf_gnb.predict(test_x_vector), average = None, labels=['POSITIVE', 'NEGATIVE']))\n"
   ]
  },
  {
   "cell_type": "markdown",
   "id": "efa9dd32",
   "metadata": {},
   "source": [
    "### Testing the parformance of the model on the new data(unseen data)"
   ]
  },
  {
   "cell_type": "code",
   "execution_count": 26,
   "id": "beb4d49e",
   "metadata": {},
   "outputs": [
    {
     "name": "stdout",
     "output_type": "stream",
     "text": [
      "Enter your review about our product:Can you please make a tutorial for zoom clone using react native\n",
      "The user review is: NEGATIVE\n",
      "------------\n",
      "We are sorry,will do you well next time\n"
     ]
    }
   ],
   "source": [
    "test_data = [str(input(\"Enter your review about our product:\"))]\n",
    "test_data =vectorizer.transform(test_data)\n",
    "review_feedback = clf_l.predict(test_data)\n",
    "feedback = str(review_feedback).replace('[', '').replace(']','').replace(\"'\",'')\n",
    "print(\"The user review is:\",feedback)\n",
    "if str(feedback) == \"POSITIVE\":\n",
    "    print(\"------------\")\n",
    "    print(\"Wow!!! thanks for your positive feedback will hope to see you again\")\n",
    "elif str(feedback) == 'NEGATIVE':\n",
    "    print(\"------------\")\n",
    "    print(\"We are sorry,will do you well next time\")\n"
   ]
  },
  {
   "cell_type": "markdown",
   "id": "e164be6b",
   "metadata": {},
   "source": [
    "### Saving the model with pickle"
   ]
  },
  {
   "cell_type": "code",
   "execution_count": 23,
   "id": "4c470e1d",
   "metadata": {},
   "outputs": [],
   "source": [
    "import pickle\n",
    "with open('amazon_sentiment_analysis.pkl', 'wb') as f:\n",
    "    pickle.dump(clf_l, f)"
   ]
  },
  {
   "cell_type": "markdown",
   "id": "ba8973bb",
   "metadata": {},
   "source": [
    "### Load back the model and to re-text it"
   ]
  },
  {
   "cell_type": "code",
   "execution_count": 24,
   "id": "697a1547",
   "metadata": {},
   "outputs": [
    {
     "data": {
      "text/plain": [
       "array(['POSITIVE'], dtype='<U8')"
      ]
     },
     "execution_count": 24,
     "metadata": {},
     "output_type": "execute_result"
    }
   ],
   "source": [
    "with open('amazon_sentiment_analysis.pkl', 'rb') as f:\n",
    "    data = pickle.load(f)\n",
    "data.predict(test_x_vector[0])"
   ]
  },
  {
   "cell_type": "code",
   "execution_count": null,
   "id": "16cdfcf5",
   "metadata": {},
   "outputs": [],
   "source": [
    "import jovian"
   ]
  },
  {
   "cell_type": "code",
   "execution_count": null,
   "id": "cdeb7dc9",
   "metadata": {},
   "outputs": [],
   "source": [
    "!pip3 install jovian"
   ]
  },
  {
   "cell_type": "code",
   "execution_count": null,
   "id": "9ff593b9",
   "metadata": {},
   "outputs": [],
   "source": [
    "import jovian\n",
    "jovian.commit()"
   ]
  },
  {
   "cell_type": "code",
   "execution_count": null,
   "id": "46c24f10",
   "metadata": {},
   "outputs": [],
   "source": []
  }
 ],
 "metadata": {
  "kernelspec": {
   "display_name": "Python 3 (ipykernel)",
   "language": "python",
   "name": "python3"
  },
  "language_info": {
   "codemirror_mode": {
    "name": "ipython",
    "version": 3
   },
   "file_extension": ".py",
   "mimetype": "text/x-python",
   "name": "python",
   "nbconvert_exporter": "python",
   "pygments_lexer": "ipython3",
   "version": "3.11.3"
  }
 },
 "nbformat": 4,
 "nbformat_minor": 5
}
